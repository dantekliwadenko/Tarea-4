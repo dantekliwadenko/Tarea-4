{
  "nbformat": 4,
  "nbformat_minor": 0,
  "metadata": {
    "colab": {
      "provenance": [],
      "include_colab_link": true
    },
    "kernelspec": {
      "name": "python3",
      "display_name": "Python 3"
    },
    "language_info": {
      "name": "python"
    }
  },
  "cells": [
    {
      "cell_type": "markdown",
      "metadata": {
        "id": "view-in-github",
        "colab_type": "text"
      },
      "source": [
        "<a href=\"https://colab.research.google.com/github/dantekliwadenko/Tarea-4/blob/main/Tarea4.ipynb\" target=\"_parent\"><img src=\"https://colab.research.google.com/assets/colab-badge.svg\" alt=\"Open In Colab\"/></a>"
      ]
    },
    {
      "cell_type": "markdown",
      "source": [
        "# **CD2201-16: Ciencia de Datos en Astronomía**\n",
        "\n",
        "**Profesores:** Boris Cuevas, Paula Díaz, Danilo Sepúlveda, Francisco Urbina\n",
        "\n",
        "# **Tarea 4: Analizando un cubo de datos**\n",
        "\n",
        "En clases ya vimos varios tipos de datos que utilizamos para analizar objetos astronómicos, como lo hacen las técnicas de fotometria y espectroscopia. En principio, se puede entender la fotometría como un \"subconjunto\" de la espectroscopia, pero esta última es mucho más costosa.\n",
        "\n",
        "Con un único espectro solo podemos analizar cómo se descompone la luz de un único objeto, lo cual puede ser muy útil si estudiamos objetos puntuales. En algunos casos queremos estudiar objetos \"extendidos\" en el cielo, como las galaxias o explorar los espectros de muchas estrellas de forma simultánea (como en un cúmulo de estrellas). Para este tipo de casos, es ideal obtener un espectro para cada posición del cielo alrededor de algún objeto central. Esto se suele conocer como \"Espectroscopia de campo integral\" (IFS por sus siglas en inglés).\n",
        "\n",
        "En esta minitarea exploraremos un cubo de datos, aprenderemos a como entender su formato, extraer información fundamental e identificar algunos objetos extrayendo su espectro."
      ],
      "metadata": {
        "id": "lO_m4RY9OF3Q"
      }
    },
    {
      "cell_type": "markdown",
      "source": [
        "## A jugar con los datos!\n",
        "\n",
        "Descargue los datos que vamos a utilizar en el siguiente [link.](https://drive.google.com/file/d/1V7j-WJpTY9fZwajyhpp_Vj9ZZ1rjKN_j/view?usp=sharing)\n",
        "\n",
        "**CUIDADO:** los datos pesan ~3 Gb, usted debe descargarlos y subirlos a alguna carpeta de Drive (misma carpeta donde tendrá esta tarea!)."
      ],
      "metadata": {
        "id": "EF1AoTndQ90m"
      }
    },
    {
      "cell_type": "code",
      "source": [
        "# Partiremos por \"montar\" el drive, esto permite que podamos leer los archivos de nuestro drive\n",
        "from google.colab import drive\n",
        "drive.mount('/content/drive')    # se les debe abrir una pestaña extra pidiendo permisos\n"
      ],
      "metadata": {
        "id": "txVXyyznQNeF",
        "outputId": "aa377436-54c9-4a85-de4b-d3d8943fa20d",
        "colab": {
          "base_uri": "https://localhost:8080/"
        }
      },
      "execution_count": 1,
      "outputs": [
        {
          "output_type": "stream",
          "name": "stdout",
          "text": [
            "Mounted at /content/drive\n"
          ]
        }
      ]
    },
    {
      "cell_type": "code",
      "source": [
        "# Encuentren la ruta de su archivo, para ello puede utilizar la barra de herramientas izquierda\n",
        "# lleguen a su archivo desde su \"drive\" y con el click derecho \"copiar ruta\" y luego la pegan\n",
        "# como un string en la siguiente variable.\n",
        "path_archivo = '/content/drive/MyDrive/tarea 4/CSWA31_MUSE_vacuum_zap.fits'"
      ],
      "metadata": {
        "id": "b7yJgWHfT3bB"
      },
      "execution_count": 2,
      "outputs": []
    },
    {
      "cell_type": "markdown",
      "source": [
        "Cargue el cubo de datos con astropy en la siguiente celda."
      ],
      "metadata": {
        "id": "0nIY2KO02qhs"
      }
    },
    {
      "cell_type": "code",
      "source": [
        "import astropy.io.fits as F\n",
        "cubo = F.open(path_archivo)"
      ],
      "metadata": {
        "id": "6msBb--ZVJKy"
      },
      "execution_count": 3,
      "outputs": []
    },
    {
      "cell_type": "markdown",
      "source": [
        "Muestre el *header* de la primera extensión de la variable cubo."
      ],
      "metadata": {
        "id": "8bX0d5ph3sWN"
      }
    },
    {
      "cell_type": "code",
      "source": [
        "# Muestre el header (es recomendable que no use \"print\" en esta ocasión)\n",
        "\n",
        "cubo[0].header"
      ],
      "metadata": {
        "id": "C43JBWkE3wP5",
        "outputId": "50a938d1-43fc-46b2-8a61-5064aa106680",
        "colab": {
          "base_uri": "https://localhost:8080/"
        }
      },
      "execution_count": 7,
      "outputs": [
        {
          "output_type": "execute_result",
          "data": {
            "text/plain": [
              "SIMPLE  =                    T / conforms to FITS standard                      \n",
              "BITPIX  =                    8 / array data type                                \n",
              "NAXIS   =                    0 / number of array dimensions                     \n",
              "EXTEND  =                    T                                                  \n",
              "ORIGIN  = 'ESO-PARANAL'        / European Southern Observatory                  \n",
              "TELESCOP= 'ESO-VLT-U4'         / ESO <TEL>                                      \n",
              "INSTRUME= 'MUSE    '           / Instrument used.                               \n",
              "RA      =           140.357084 / [deg] 09:21:25.7 RA (J2000) pointing           \n",
              "DEC     =              18.1713 / [deg] 18:10:16.6 DEC (J2000) pointing          \n",
              "EQUINOX =               2000.0 / Standard FK5                                   \n",
              "EXPTIME =              13575.0 / Integration time                               \n",
              "MJD-OBS =       58841.29679796 / Obs start                                      \n",
              "DATE-OBS= '2019-12-24T07:07:23.343' / Observing date                            \n",
              "PI-COI  = 'UNKNOWN '           / PI-COI name.                                   \n",
              "OBSERVER= 'UNKNOWN '           / Name of observer.                              \n",
              "OBJECT  = 'CSWA 31 '           / Original target.                               \n",
              "HIERARCH ESO INS DROT POSANG = 0.0 / [deg] Derotator position angle             \n",
              "HIERARCH ESO INS MODE = 'WFM-NOAO-N' / Instrument mode used                     \n",
              "HIERARCH ESO DET READ CURID = 1 / Used readout mode id                          \n",
              "HIERARCH ESO INS TEMP11 VAL = 15.82 / [C] Left IFU temperature                  \n",
              "HIERARCH ESO OBS ID = 2509894 / Observation block ID                            \n",
              "HIERARCH ESO OBS NAME = 'WFM_CSWA31_1' / OB name                                \n",
              "HIERARCH ESO OBS START = '2019-12-24T07:00:41' / OB start time                  \n",
              "HIERARCH ESO TEL AIRM END = 1.374 / Airmass at end                              \n",
              "HIERARCH ESO TEL AIRM START = 1.394 / Airmass at start                          \n",
              "HIERARCH ESO TEL AMBI FWHM END = 0.49 / [arcsec] Observatory Seeing queried from\n",
              "HIERARCH ESO TEL AMBI FWHM START = 0.51 / [arcsec] Observatory Seeing queried fr\n",
              "HIERARCH MPDAF METH1 VERSION = '3.5     ' / MPDAF version                       \n",
              "HIERARCH MPDAF METH1 ID = 'obj.cubelist.merging' / MPDAF method identifier      \n",
              "HIERARCH MPDAF METH1 PARAM1 NAME = 'nmax    ' / max number of clipping iteration\n",
              "HIERARCH MPDAF METH1 PARAM1 VALUE = 2                                           \n",
              "HIERARCH MPDAF METH1 PARAM2 NAME = 'nclip_low' / lower clipping parameter       \n",
              "HIERARCH MPDAF METH1 PARAM2 VALUE = 5.0                                         \n",
              "HIERARCH MPDAF METH1 PARAM3 NAME = 'nclip_up' / upper clipping parameter        \n",
              "HIERARCH MPDAF METH1 PARAM3 VALUE = 5.0                                         \n",
              "HIERARCH MPDAF METH1 PARAM4 NAME = 'nstop   ' / clipping minimum number         \n",
              "HIERARCH MPDAF METH1 PARAM4 VALUE = 2                                           \n",
              "HIERARCH MPDAF METH1 PARAM5 NAME = 'var     ' / type of variance                \n",
              "HIERARCH MPDAF METH1 PARAM5 VALUE = 'propagate'                                 \n",
              "NFILES  =                   15 / number of files merged in the cube             \n",
              "DATE    = '2024-05-08 15:16:35.387745' / creation date                          \n",
              "AUTHOR  = 'MPDAF   '           / origin of the file                             \n",
              "COMMENT List of cubes merged in this cube:                                      \n",
              "COMMENT - DATACUBE_FINAL.fits                                                   \n",
              "COMMENT - DATACUBE_FINAL.fits                                                   \n",
              "COMMENT - DATACUBE_FINAL.fits                                                   \n",
              "COMMENT - DATACUBE_FINAL.fits                                                   \n",
              "COMMENT - DATACUBE_FINAL.fits                                                   \n",
              "COMMENT - DATACUBE_FINAL.fits                                                   \n",
              "COMMENT - DATACUBE_FINAL.fits                                                   \n",
              "COMMENT - DATACUBE_FINAL.fits                                                   \n",
              "COMMENT - DATACUBE_FINAL.fits                                                   \n",
              "COMMENT - DATACUBE_FINAL.fits                                                   \n",
              "COMMENT - DATACUBE_FINAL.fits                                                   \n",
              "COMMENT - DATACUBE_FINAL.fits                                                   \n",
              "COMMENT - DATACUBE_FINAL.fits                                                   \n",
              "COMMENT - DATACUBE_FINAL.fits                                                   \n",
              "COMMENT - DATACUBE_FINAL.fits                                                   "
            ]
          },
          "metadata": {},
          "execution_count": 7
        }
      ]
    },
    {
      "cell_type": "markdown",
      "source": [
        "Examinando la información desplegada responda:\n",
        "\n",
        "1.   ¿Qué telescopio tomó los datos?\n",
        "2.   ¿Qué instrumento lo hizo?\n",
        "3.   ¿Cuál es el nombre del objeto observado?\n",
        "4.   Reporte el valor de la variable 'EXPTIME' del header. Esto corresponde al *tiempo de integración* que se necesito para obtener los datos. ¿A qué corresponde ese tiempo?\n",
        "\n",
        "**Respuesta:**\n",
        "\n",
        "1. ESO-VLT-U4\n",
        "2. MUSE\n",
        "3. CSWA 31\n",
        "4. El valor EXPTIME de 13575.0 corresponde al tiempo de exposición del telescopio para esta observación."
      ],
      "metadata": {
        "id": "dSWyWcsSZIKV"
      }
    },
    {
      "cell_type": "markdown",
      "source": [
        "Ahora que ya conoce el telescopio y el instrumento que tomó los datos, investigue y responda las siguientes preguntas:\n",
        "\n",
        "1. ¿De que tamaño es el diámetro del espejo del telescopio?\n",
        "2. ¿Cuán grande es el campo de visión que examina el instrumento (Field of view o FOV en inglés)? Compare dicho campo de visión con el tamaño angular de la luna visto desde la tierra (algo así como medio grado) ¿Cuántos campos de visión del intrumento \"caben\" en la luna?.\n",
        "3. ¿Qué rango de longitud de onda explora este instrumento?\n",
        "\n",
        "**Respuesta:**\n",
        "\n",
        "1. El diametro principal es de 8.2 m\n",
        "2. El campo de visión es de 1 arcmin^2. Si el diametro de la luna cubre 0.5 grados, o bien 30 arcmin, entonces su area cubre 15^2 * π arcmin^2 = 225π arcmin^2 = 706.68 arcmin^2. Entonces, caben 706.68 campos de visión del intrumento en la luna.\n",
        "3. El rango de longitudes de onda es de 300 a 1000 nm."
      ],
      "metadata": {
        "id": "YUF-dLTZ9D4z"
      }
    },
    {
      "cell_type": "markdown",
      "source": [
        "Explore la extensión asociada a los datos (índice = 1).\n",
        "Extraiga los datos y describa cada eje del cubo. ¿En que unidades se encuentran los datos?\n",
        "**Respuesta:**     \n",
        "  \n",
        "Los ejes del cubo son RA y DEC  \n",
        "  \n",
        "Los datos se encuentran en   \n",
        "10^-20 Å^-1 cm^-2 erg s^-1   \n",
        "= 10^-20 10^10 m^-1 10^4 m^-2 10^-7 J s^-1   \n",
        "= 10^-13 J m^-3 s^-1  \n",
        "= 10^-13 W/m^3  \n",
        "Estas son unidades de irridancia espectral\n",
        "\n",
        "**Hint:** explore las variables 'CTYPE', estas le indicarán a que corresponde cada eje del cubo. Las unidades se encontrarán en la variable 'BUNIT'."
      ],
      "metadata": {
        "id": "3NkB210II0Ik"
      }
    },
    {
      "cell_type": "code",
      "source": [
        "# Muestre el header de la primera extensión (índice = 1) aquí.\n",
        "\n",
        "cubo[1].header"
      ],
      "metadata": {
        "id": "LxdN2bU27_bT",
        "outputId": "ecd83c2d-d849-4404-c882-ecb17d7f0827",
        "colab": {
          "base_uri": "https://localhost:8080/"
        }
      },
      "execution_count": 9,
      "outputs": [
        {
          "output_type": "execute_result",
          "data": {
            "text/plain": [
              "XTENSION= 'IMAGE   '           / Image extension                                \n",
              "BITPIX  =                  -32 / array data type                                \n",
              "NAXIS   =                    3 / number of array dimensions                     \n",
              "NAXIS1  =                  322                                                  \n",
              "NAXIS2  =                  325                                                  \n",
              "NAXIS3  =                 3682                                                  \n",
              "PCOUNT  =                    0 / number of parameters                           \n",
              "GCOUNT  =                    1 / number of groups                               \n",
              "WCSAXES =                    3 / Number of coordinate axes                      \n",
              "CRPIX1  =      160.93047228529 / Pixel coordinate of reference point            \n",
              "CRPIX2  =       162.3187381719 / Pixel coordinate of reference point            \n",
              "CUNIT1  = 'deg'                / Units of coordinate increment and value        \n",
              "CUNIT2  = 'deg'                / Units of coordinate increment and value        \n",
              "CTYPE1  = 'RA---TAN'           / Right ascension, gnomonic projection           \n",
              "CTYPE2  = 'DEC--TAN'           / Declination, gnomonic projection               \n",
              "CRVAL1  =      140.35724395618 / [deg] Coordinate value at reference point      \n",
              "CRVAL2  =      18.171489819048 / [deg] Coordinate value at reference point      \n",
              "LONPOLE =                180.0 / [deg] Native longitude of celestial pole       \n",
              "LATPOLE =      18.171489819048 / [deg] Native latitude of celestial pole        \n",
              "CSYER1  =     1.2298399761E-05 / [deg] Systematic error in coordinate           \n",
              "CSYER2  =    9.26900810156E-06 / [deg] Systematic error in coordinate           \n",
              "MJDREF  =                  0.0 / [d] MJD of fiducial time                       \n",
              "RADESYS = 'FK5'                / Equatorial coordinate system                   \n",
              "EQUINOX =               2000.0 / [yr] Equinox of equatorial coordinates         \n",
              "CD1_1   = -5.5555555555556E-05                                                  \n",
              "CD1_2   =                  0.0                                                  \n",
              "CD2_1   =                  0.0                                                  \n",
              "CD2_2   =  5.5555555555556E-05                                                  \n",
              "CRVAL3  =     4751.66303877044 / Coordinate value at reference point            \n",
              "CRPIX3  =                  1.0 / Pixel coordinate of reference point            \n",
              "CUNIT3  = 'Angstrom'           / Units of coordinate increment and value        \n",
              "CTYPE3  = 'WAVE    '           / Coordinate type code                           \n",
              "CD3_3   =                 1.25                                                  \n",
              "CD1_3   =                  0.0                                                  \n",
              "CD2_3   =                  0.0                                                  \n",
              "CD3_1   =                  0.0                                                  \n",
              "CD3_2   =                  0.0                                                  \n",
              "OBJECT  = 'CSWA 31 '                                                            \n",
              "BUNIT   = '10**-20 Angstrom-1 cm-2 erg s-1' / data unit type                    \n",
              "EXTNAME = 'DATA    '           / extension name                                 \n",
              "COMMENT These data have been ZAPped!                                            \n",
              "ZAPVERS = '2.1     '           / ZAP version                                    \n",
              "ZAPZLVL = 'median  '           / ZAP zero level correction                      \n",
              "ZAPCLEAN=                    T / ZAP NaN cleaning performed for calculation     \n",
              "ZAPCFTYP= 'median  '           / ZAP continuum filter type                      \n",
              "ZAPCFWID=                  300 / ZAP continuum filter size                      \n",
              "ZAPNSEG =                    1 / Number of segments used for ZAP SVD            \n",
              "ZAPSEG0 = '0:3681  '           / spectrum segment (pixels)                      \n",
              "ZAPNEV0 =                   71 / number of eigenvals/spectra used               "
            ]
          },
          "metadata": {},
          "execution_count": 9
        }
      ]
    },
    {
      "cell_type": "code",
      "source": [
        "# Guarde los datos en la siguiente variable.\n",
        "datos = cubo[1]"
      ],
      "metadata": {
        "id": "fn--7U6kLCnS"
      },
      "execution_count": 10,
      "outputs": []
    },
    {
      "cell_type": "code",
      "source": [
        "print(datos.shape)     # noten que la dimensión de mayor número es la espectral, las otras 2 son espaciales :)"
      ],
      "metadata": {
        "id": "hMXwuS_RCQ_X",
        "outputId": "ec1df791-fb07-4485-c625-68c77fac12cc",
        "colab": {
          "base_uri": "https://localhost:8080/"
        }
      },
      "execution_count": 11,
      "outputs": [
        {
          "output_type": "stream",
          "name": "stdout",
          "text": [
            "(3682, 325, 322)\n"
          ]
        }
      ]
    },
    {
      "cell_type": "markdown",
      "source": [
        "## White-light image y su visualización\n",
        "\n",
        "Una white-light image es una imagén en la cual se sumó en la dirección espectral, es decir, sumamos todos los fotones que llegaron en todo el rango explorado, de ahí el origen del nombre.\n",
        "\n",
        "Cree un código capaz de calcular una white-light image (una línea con numpy), quizá se demore un poco en ejecutar esta parte."
      ],
      "metadata": {
        "id": "CwHRcoIgK9Vf"
      }
    },
    {
      "cell_type": "code",
      "source": [
        "# Aquí el código.\n",
        "import numpy as np\n",
        "white_light_image ="
      ],
      "metadata": {
        "id": "Z6XwYMO9LFTH"
      },
      "execution_count": null,
      "outputs": []
    },
    {
      "cell_type": "markdown",
      "source": [
        "Visualice su imagen con plt.imshow()."
      ],
      "metadata": {
        "id": "kZqKv8Kf8MvZ"
      }
    },
    {
      "cell_type": "code",
      "source": [
        "import matplotlib.pyplot as plt"
      ],
      "metadata": {
        "id": "SLSlr5wiLqCn"
      },
      "execution_count": null,
      "outputs": []
    },
    {
      "cell_type": "markdown",
      "source": [
        "Notará que en la imagen existen una especie de arcos aproximadamente circulares. Explique brevemente, ¿a qué fenómeno físico corresponde esto?\n",
        "\n",
        "**Respuesta:**"
      ],
      "metadata": {
        "id": "NcG3SWbxMbIh"
      }
    },
    {
      "cell_type": "markdown",
      "source": [
        "El resultado crudo de dicha visualización puede mejorar de forma significativa.\n",
        "Para ello usted debe:\n",
        "1. Cortar la imagen para enforcarnos en las figuras \"semi circulares\" que se aprecian.\n",
        "2. Ajustar la scala de la imagen para generar mayor contraste.\n",
        "3. Cambie el mapa de colores a uno que le parezca adecuado ([aquí una lista](https://matplotlib.org/stable/users/explain/colors/colormaps.html)).\n",
        "4. Añadir coordenadas a los ejes y una colorbar.\n"
      ],
      "metadata": {
        "id": "U7HezEoRL43c"
      }
    },
    {
      "cell_type": "code",
      "source": [
        "# Solución\n",
        "from astropy.wcs import WCS\n",
        "# Utilice el siguiente wcs para añadir las coordenadas a su visualización.\n",
        "wcs = WCS(cubo[1].header)\n",
        "wcs = wcs[0,:,:]\n",
        "\n",
        "# Haga su gráfico a continuación:"
      ],
      "metadata": {
        "id": "8WTxs89fNBOl"
      },
      "execution_count": null,
      "outputs": []
    },
    {
      "cell_type": "markdown",
      "source": [
        "Para lo que viene utilizaremos una librería creada para lidiar con cubos de datos.\n",
        "La instalaremos utilizando **pip**, note que esta instalación es solo en el ambiente de google colab, nada se instalará en su computador.  \n",
        "La documentación la puede encontrar [aquí.](https://mpdaf.readthedocs.io/en/stable/)"
      ],
      "metadata": {
        "id": "jpIZkJcVpbh4"
      }
    },
    {
      "cell_type": "code",
      "source": [
        "!pip install mpdaf"
      ],
      "metadata": {
        "id": "_tY_FVRrjUvL"
      },
      "execution_count": null,
      "outputs": []
    },
    {
      "cell_type": "code",
      "source": [
        "from astropy.coordinates import SkyCoord\n",
        "from astropy import units as u\n",
        "import mpdaf as mpdaf\n",
        "\n",
        "# Aquí tienen una lista de 4 coordenadas extraídas de la Tabla 1 del artículo https://arxiv.org/pdf/2203.13759\n",
        "# s0(a) =  9:21:25.040, 18:10:12.27    (RA, DEC)\n",
        "# s0(b) =  9:21:25.858, 18:10:07.24    (RA, DEC)\n",
        "# s0(c) =  9:21:26.439, 18:10:13.60    (RA, DEC)\n",
        "# s0(d) =  9:21:25.781, 18:10:24.64    (RA, DEC)\n",
        "\n",
        "# Cree un objeto SkyCoord para cada una de las coordenadas anteriores.\n",
        "s0a =\n",
        "s0b =\n",
        "s0c =\n",
        "s0d =\n",
        "\n",
        "# Esto mostrará las coordenadas en grados de la primera coordenada.\n",
        "print('s0a = (RA, DEC) = ',s0a.ra.value,',' ,s0a.dec.value)"
      ],
      "metadata": {
        "id": "CrSH7F_KjOmi"
      },
      "execution_count": null,
      "outputs": []
    },
    {
      "cell_type": "markdown",
      "source": [
        "Cargaremos el cubo con mpdaf y luego extraeremos espectros con aperturas circulares."
      ],
      "metadata": {
        "id": "55BQwBYRDI7m"
      }
    },
    {
      "cell_type": "code",
      "source": [
        "# Cargamos con mpdaf\n",
        "cube = mpdaf.obj.Cube(path_archivo)"
      ],
      "metadata": {
        "id": "D6ROll9cnIuk"
      },
      "execution_count": null,
      "outputs": []
    },
    {
      "cell_type": "markdown",
      "source": [
        "Busque la documentación de mpdaf.obj.Cube, allí encontrará el método \"aperture\".\n",
        "Este método extrae un espectro de una apertura circular en el cubo.\n",
        "\n",
        "Averigue como utilizar dicha función para extraer un espectro en cada coordenada antes creada\n",
        "considerando, una apertura de diámetro de 2\"\n",
        "Un pequeño hint: el centro debe ser de la forma (dec, ra) y cada coordenada con su valor en grados."
      ],
      "metadata": {
        "id": "Hw6wVVZCDcrQ"
      }
    },
    {
      "cell_type": "code",
      "source": [
        "# Rellene el código a continuación reemplazando el \"CENTRO\" y \"radio\", según corresponda.\n",
        "# Note que ya le hemos indicado al método las unidades de medida, por lo que debe ser consistente.\n",
        "\n",
        "espectro_s0a = cube.aperture(CENTRO, RADIO, unit_center=u.deg, unit_radius=u.arcsec)\n",
        "espectro_s0b = cube.aperture(CENTRO, RADIO, unit_center=u.deg, unit_radius=u.arcsec)\n",
        "espectro_s0c = cube.aperture(CENTRO, RADIO, unit_center=u.deg, unit_radius=u.arcsec)\n",
        "espectro_s0d = cube.aperture(CENTRO, RADIO, unit_center=u.deg, unit_radius=u.arcsec)"
      ],
      "metadata": {
        "id": "sahVsfM9Dipt"
      },
      "execution_count": null,
      "outputs": []
    },
    {
      "cell_type": "markdown",
      "source": [
        "Grafique los 4 espectros en un único gráfico. Notará que es bastante difícil descifrar algo de forma directa con plots \"crudos\". Estos espectros se ven todos bastante parecidos.\n",
        "\n",
        "Grafique únicamente el rango de longitud de onda entre 9240-9310 Å.\n",
        "Para esto puede utilizar el método \"plot\" de los objetos antes creados."
      ],
      "metadata": {
        "id": "4m4D6yJkxCHY"
      }
    },
    {
      "cell_type": "code",
      "source": [
        "# Inserte su gráfico a continuación:"
      ],
      "metadata": {
        "id": "W0I22N9zojct"
      },
      "execution_count": null,
      "outputs": []
    },
    {
      "cell_type": "markdown",
      "source": [
        "\n",
        "Notará que hay una emisión bastante clara con 2 máximos, uno detrás de otro.\n",
        "Esto es lo que se conoce como líneas espectrales de emisión de una galaxia.\n",
        "En particular, estas líneas parecen ser todas iguales entre los distintos espectros. Los autores del artículo antes mencionado afirman que estas 4 coordenadas provienen de una misma única fuente de fondo, ¿cómo justificarían dicha afirmación con el gráfico que obtuvieron recién?\n",
        "\n",
        "**Respuesta: (algo corto y simple!)**"
      ],
      "metadata": {
        "id": "sviNc7Sixxix"
      }
    },
    {
      "cell_type": "markdown",
      "source": [
        "Esta emisión proviene del gas de estas fuentes, en particular es una línea de  OII, es decir, oxígeno que fue ionizado. Esta línea es lo que se conoce como un \"doblete\" (doublet en inglés), lo que quiere decir que en realidad son dos líneas, muy cercanas en longitud de onda. La longitud de onda medida en laboratorio de ambas líneas es 3727.092 Å y 3729.875 Å, respectivamente. Claramente las líneas que vemos en estas fuentes no están centradas en esas longitudes de onda.\n",
        "\n",
        "El desplazamiento aparente de las longitudes de onda, con respecto a aquellas medidas en el laboratorio, es un efecto de la expansión del universo. La expansión genera que los fotones pasen a tener una longitud de onda cada vez más larga a medida que se alejan de un observador. Esto se suele definir con la cantidad \"redshift\" (z) definida por:\n",
        "\n",
        "$$\\lambda_{obs} = (1+z) \\lambda_0 $$\n",
        "\n",
        "donde $\\lambda_{obs}$ y $\\lambda_0$ corresponde a la longitud de onda observada y aquella medida en el laboratorio. Vamos a determinar el redshift de esta fuente, para ello fitearemos un modelo que considera dos gaussianas (una para cada línea) y una constante, es decir nuestro modelo es de la forma:\n",
        "\n",
        "$$f(\\lambda, z,  A_1, \\sigma_1, A_2, \\sigma_2, C) = A_1 \\exp(-(\\lambda - (1+z)\\lambda_{0,1})^2 /(2 \\sigma_1^2 ))  + A_2 \\exp(-(\\lambda - (1+z)\\lambda_{0,2})^2 /(2 \\sigma_2^2 )) + C$$\n",
        "\n",
        "Donde $\\lambda_{0,1} = 3727.092$ Å y $\\lambda_{0,2} = 3729.875$ Å.\n",
        "\n",
        "MPDAF ya es capaz de hacer este fit por nosotros, para ello proceda como se le indica:\n",
        "\n",
        "1. Note que cada espectro antes producido es un objeto de Python, dichos objetos tienen como método gauss_dfit. Explore la documentación de mpdaf y busque el método gauss_dfit. Describa los 3 primeros parámetros de dicha función.\n",
        "**Respuesta:**\n",
        "2. Considerando que vamos a hacer nuestro fit en el rango 9240-9310 Å, utilice el método antes descrito.\n",
        "\n",
        "3. El resultado deberían ser dos objetos de tipo obj.Gauss1D, utilice el método print_param() para mostrar los resultados de cada fit."
      ],
      "metadata": {
        "id": "jBq5irZazTPS"
      }
    },
    {
      "cell_type": "code",
      "source": [
        "# Utilice el método gauss_dfit (solo utilizaremos un espectro de los antes calculados, no necesitamos los 4)\n",
        "fit1, fit2 = espectro_s0a.gauss_dfit()  # rellene con los parámetros adecuados\n",
        "\n",
        "# Haga el print de los parámetros del primer objeto Gauss1D (fit1) (utilice el método \"print_param\" para esto)\n"
      ],
      "metadata": {
        "id": "YAtVYZj104WB"
      },
      "execution_count": null,
      "outputs": []
    },
    {
      "cell_type": "code",
      "source": [
        "# Haga el print de los parámetros del segundo objeto Gauss1D (fit2)\n"
      ],
      "metadata": {
        "id": "-1121TTK155M"
      },
      "execution_count": null,
      "outputs": []
    },
    {
      "cell_type": "markdown",
      "source": [
        "Note que los modelos no reportan las variables $\\sigma$ antes descritas, sino que para describir el ancho utilizan la variable fwhm lo cual es una abreviación para la palabra Full width at half Maximum (ancho a media altura en español).\n",
        "\n",
        "Responda:\n",
        "- ¿Qué es el FWHM?\n",
        "- Para una distribución normal, escriba una ecuación que relacione el FWHM con la desviación estándar $\\sigma$ (no es necesario que la demuestre).  \n",
        "\n",
        "**Respuesta:**"
      ],
      "metadata": {
        "id": "1es3Z6kDKAI2"
      }
    },
    {
      "cell_type": "markdown",
      "source": [
        "Ahora, veremos que tan bien lo hizo este modelo, para ello graficaremos encima del espectro el modelo que se obtuvo."
      ],
      "metadata": {
        "id": "81XIHiNaJI0I"
      }
    },
    {
      "cell_type": "code",
      "source": [
        "# Función de ayuda para la siguiente parte :)\n",
        "\n",
        "def gaussian(x, center, fwhm, peak):\n",
        "  sigma = fwhm/2.355\n",
        "  dif = x - center\n",
        "  return peak * np.exp(-(dif**2)/(2*sigma**2))"
      ],
      "metadata": {
        "id": "bTZLE0E-1-dT"
      },
      "execution_count": null,
      "outputs": []
    },
    {
      "cell_type": "markdown",
      "source": [
        "Realice un gráfico que contenga el espectro en el cual se realizó el \"fit\" y el modelo encontrado.\n",
        "Para ello debe implementar la función $f(\\lambda, z,  A_1, \\sigma_1, A_2, \\sigma_2, C)$. Esto se puede realizar utilizando la función \"gaussian\" del bloque anterior o puede hacer su propia implementación desde 0.\n",
        "\n",
        "Solo grafique el rango entre 9240-9310 angstroms. Recuerde incluír alguna leyenda, nombres en los ejes, título, etc."
      ],
      "metadata": {
        "id": "dZQWBDY1jrLD"
      }
    },
    {
      "cell_type": "code",
      "source": [
        "# Inserte aquí su gráfico:"
      ],
      "metadata": {
        "id": "NGi9SUw42cn7"
      },
      "execution_count": null,
      "outputs": []
    },
    {
      "cell_type": "markdown",
      "source": [
        "Finalmente, con el resultado del fit, podemos encontrar el redshift de la fuente. Para ello simplemente calcule el redshift (z) utilizando la definición provista, considerando que la longitud de onda observada corresponde con algún centro de las gaussianas.\n"
      ],
      "metadata": {
        "id": "OBu7d8_3L4u8"
      }
    },
    {
      "cell_type": "code",
      "source": [
        "# Escriba aquí código para el cálculo:\n",
        "\n",
        "lambda_0 =  3727.092  # consideramos la línea de longitud de onda más corta\n",
        "z =\n",
        "print('El redshift es: {:.3f}'.format(z))"
      ],
      "metadata": {
        "id": "Duixc_Um5IqI"
      },
      "execution_count": null,
      "outputs": []
    },
    {
      "cell_type": "markdown",
      "source": [
        "A modo de curiosidad, el redshift de esta galaxia indica que la luz que observamos se emitió hace poco menos de 10.000 millones de años, 2/3 de la edad del universo :o !!"
      ],
      "metadata": {
        "id": "WXx9Gd1PkS-p"
      }
    },
    {
      "cell_type": "markdown",
      "source": [
        "## Opcional: no todo es Python!\n",
        "\n",
        "Existe software capaz de proveer de una visualización y análisis rápido de datos como los que utilizamos en esta actividad. Uno de ellos especialmente diseñado para lidiar con cubos de datos es QfitsView.\n",
        "El software se puede descargar en el siguiente [link](https://www.mpe.mpg.de/~ott/QFitsView/).\n",
        "\n",
        "Descargue el software y abra directamente los datos descargados en su computador, para ello debe seleccionar la extensión \"DATA\". Notará que abrirá el cubo y podrá desplazarse a lo largo de todos los canales. Ajuste la escala a \"linear\" y utilizando el 98% del rango de los datos para un mejor contraste.\n",
        "\n",
        "Una pequeña guía para repetir todo lo que hicieron en la actividad:\n",
        "- A medida que mueve su \"ratón\" por sobre la imagen del canal seleccionado, verá que el \"gráfico\" de abajo cambia. Dicho gráfico por defecto es el espectro asociado al pixel en el cual su \"ratón\" está.\n",
        "- Podemos fijar el espectro que queremos visualizar, para ello haga click derecho en alguna fuente que quiera observar con detalle y seleccione \"lock position\".\n",
        "- Para mejorar la señal a ruido de los espectros es recomendable sumar la contribución de varios pixeles al mismo tiempo, para ello, en el gráfico del espectro en su parte superior, seleccione \"Circular\" en vez de \"Single pixel\" y aumente el radio (donde dice \"R1\") a unos 5 pixeles.  \n",
        "- Si desea analizar en detalle dicho espectro, lo pueden guardar como un archivo fits, para ello solo deben apretar \"click derecho\" encima de la fuente de interés (sugiero una galaxia muy brillante en el sur-este cerca del arco gravitacional). También pueden guardarlo en otro \"buffer\" y solo cambiarse de buffer para ver cada espectro.\n",
        "\n",
        "Pueden aquí ver una serie de [videos tutorial](https://www.youtube.com/playlist?list=PLdVESrjTNUXtwxwysIDLoC4pV20Lbvqaz) si desean aprender más."
      ],
      "metadata": {
        "id": "TM44FJSw-s8L"
      }
    }
  ]
}